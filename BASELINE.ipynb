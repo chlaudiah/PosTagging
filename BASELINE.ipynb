{
 "cells": [
  {
   "cell_type": "code",
   "execution_count": 1,
   "metadata": {},
   "outputs": [],
   "source": [
    "import numpy\n",
    "import io\n",
    "from itertools import permutations\n",
    "from collections import Counter"
   ]
  },
  {
   "cell_type": "code",
   "execution_count": 2,
   "metadata": {},
   "outputs": [],
   "source": [
    "def read_train(fname):\n",
    "    with open(fname) as f:\n",
    "        content = f.readlines()\n",
    "    # you may also want to remove whitespace characters like `\\n` at the end of each line\n",
    "    content = [x.strip() for x in content]\n",
    "    idx_line = 0\n",
    "    word_tag = {}\n",
    "    while idx_line < len(content):\n",
    "        while not content[idx_line].startswith('</kalimat'):\n",
    "            if  not content[idx_line].startswith('<kalimat'):\n",
    "                content_part = content[idx_line].split('\\t')\n",
    "                if (content_part[0],content_part[1]) in word_tag:\n",
    "                    word_tag[(content_part[0],content_part[1])] += 1\n",
    "                else:    \n",
    "                    word_tag[(content_part[0],content_part[1])] = 1\n",
    "            idx_line = idx_line + 1\n",
    "        idx_line = idx_line+1       \n",
    "    return word_tag"
   ]
  },
  {
   "cell_type": "code",
   "execution_count": 3,
   "metadata": {},
   "outputs": [],
   "source": [
    "def read_test(fname):\n",
    "    with open(fname) as f:\n",
    "        content = f.readlines()\n",
    "    # you may also want to remove whitespace characters like `\\n` at the end of each line\n",
    "    content = [x.strip() for x in content]\n",
    "    idx_line = 0\n",
    "    hasil = []\n",
    "    while idx_line < len(content):\n",
    "        while not content[idx_line].startswith('</kalimat'):\n",
    "            if  not content[idx_line].startswith('<kalimat'):\n",
    "                content_part = content[idx_line].split('\\t')\n",
    "                hasil.append((content_part[0],content_part[1]))\n",
    "            idx_line = idx_line + 1\n",
    "        idx_line = idx_line+1       \n",
    "    return hasil"
   ]
  },
  {
   "cell_type": "code",
   "execution_count": 4,
   "metadata": {},
   "outputs": [],
   "source": [
    "word_tag = read_train(\"Indonesian_Manually_Tagged_Corpus_ID-Train.tsv\")\n",
    "word = {}\n",
    "for i in word_tag:\n",
    "    if i[0] not in word:\n",
    "        word[i[0]] = []\n",
    "for i in word_tag:\n",
    "    word[i[0]].append((word_tag[i],i[1])) \n",
    "modelTag = []\n",
    "for i in word:\n",
    "    modelTag.append((i,max(word[i])[1]))\n",
    "kata = [i[0] for i in modelTag]\n",
    "tag = [i[1] for i in modelTag]\n",
    "hasilCount = Counter(tag)\n",
    "tagTerbanyak = max(hasilCount, key=lambda i: hasilCount[i])"
   ]
  },
  {
   "cell_type": "code",
   "execution_count": 5,
   "metadata": {},
   "outputs": [
    {
     "name": "stdout",
     "output_type": "stream",
     "text": [
      "akurasi : 89.17835671342685\n"
     ]
    }
   ],
   "source": [
    "realTag = read_test(\"Indonesian_Manually_Tagged_Corpus_ID-Test.tsv\")\n",
    "noTag = [i[0] for i in realTag]\n",
    "predTag = []\n",
    "for i in noTag:\n",
    "    if i in kata:\n",
    "        predTag.append((i,tag[kata.index(i)]))\n",
    "    else:\n",
    "        predTag.append((i,tagTerbanyak))\n",
    "benar =0\n",
    "for i in range(len(realTag)):\n",
    "    if predTag[i] == realTag[i]:\n",
    "        benar+=1\n",
    "print (\"akurasi :\",benar/len(realTag)*100)"
   ]
  }
 ],
 "metadata": {
  "kernelspec": {
   "display_name": "Python 3",
   "language": "python",
   "name": "python3"
  },
  "language_info": {
   "codemirror_mode": {
    "name": "ipython",
    "version": 3
   },
   "file_extension": ".py",
   "mimetype": "text/x-python",
   "name": "python",
   "nbconvert_exporter": "python",
   "pygments_lexer": "ipython3",
   "version": "3.6.4"
  }
 },
 "nbformat": 4,
 "nbformat_minor": 2
}
